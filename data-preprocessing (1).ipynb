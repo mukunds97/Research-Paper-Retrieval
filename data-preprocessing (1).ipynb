{
 "cells": [
  {
   "cell_type": "code",
   "execution_count": 1,
   "id": "6a9b0e7e",
   "metadata": {
    "execution": {
     "iopub.execute_input": "2023-11-26T18:38:06.318561Z",
     "iopub.status.busy": "2023-11-26T18:38:06.318194Z",
     "iopub.status.idle": "2023-11-26T18:38:06.328022Z",
     "shell.execute_reply": "2023-11-26T18:38:06.327167Z"
    },
    "papermill": {
     "duration": 0.018127,
     "end_time": "2023-11-26T18:38:06.329865",
     "exception": false,
     "start_time": "2023-11-26T18:38:06.311738",
     "status": "completed"
    },
    "tags": []
   },
   "outputs": [],
   "source": [
    "import pandas as pd"
   ]
  },
  {
   "cell_type": "code",
   "execution_count": 2,
   "id": "1dd87639",
   "metadata": {
    "execution": {
     "iopub.execute_input": "2023-11-26T18:38:06.340017Z",
     "iopub.status.busy": "2023-11-26T18:38:06.339732Z",
     "iopub.status.idle": "2023-11-26T18:38:06.349139Z",
     "shell.execute_reply": "2023-11-26T18:38:06.348202Z"
    },
    "papermill": {
     "duration": 0.016626,
     "end_time": "2023-11-26T18:38:06.351113",
     "exception": false,
     "start_time": "2023-11-26T18:38:06.334487",
     "status": "completed"
    },
    "tags": []
   },
   "outputs": [
    {
     "name": "stdout",
     "output_type": "stream",
     "text": [
      "/kaggle/input/arxiv/arxiv-metadata-oai-snapshot.json\n"
     ]
    }
   ],
   "source": [
    "import os\n",
    "for dirname, _, filenames in os.walk('/kaggle/input'):\n",
    "    for filename in filenames:\n",
    "        print(os.path.join(dirname, filename))"
   ]
  },
  {
   "cell_type": "code",
   "execution_count": 3,
   "id": "e51ad4f5",
   "metadata": {
    "execution": {
     "iopub.execute_input": "2023-11-26T18:38:06.361432Z",
     "iopub.status.busy": "2023-11-26T18:38:06.361159Z",
     "iopub.status.idle": "2023-11-26T18:38:06.364970Z",
     "shell.execute_reply": "2023-11-26T18:38:06.364120Z"
    },
    "papermill": {
     "duration": 0.011079,
     "end_time": "2023-11-26T18:38:06.366836",
     "exception": false,
     "start_time": "2023-11-26T18:38:06.355757",
     "status": "completed"
    },
    "tags": []
   },
   "outputs": [],
   "source": [
    "FILENAME = '/kaggle/input/arxiv/arxiv-metadata-oai-snapshot.json'"
   ]
  },
  {
   "cell_type": "code",
   "execution_count": 4,
   "id": "86fca6dd",
   "metadata": {
    "execution": {
     "iopub.execute_input": "2023-11-26T18:38:06.376815Z",
     "iopub.status.busy": "2023-11-26T18:38:06.376576Z",
     "iopub.status.idle": "2023-11-26T18:40:10.655123Z",
     "shell.execute_reply": "2023-11-26T18:40:10.654221Z"
    },
    "papermill": {
     "duration": 124.28674,
     "end_time": "2023-11-26T18:40:10.658030",
     "exception": false,
     "start_time": "2023-11-26T18:38:06.371290",
     "status": "completed"
    },
    "tags": []
   },
   "outputs": [],
   "source": [
    "df = pd.read_json(FILENAME, lines=True)"
   ]
  },
  {
   "cell_type": "code",
   "execution_count": 5,
   "id": "ead96101",
   "metadata": {
    "execution": {
     "iopub.execute_input": "2023-11-26T18:40:10.685718Z",
     "iopub.status.busy": "2023-11-26T18:40:10.685364Z",
     "iopub.status.idle": "2023-11-26T18:40:11.417740Z",
     "shell.execute_reply": "2023-11-26T18:40:11.416872Z"
    },
    "papermill": {
     "duration": 0.756634,
     "end_time": "2023-11-26T18:40:11.419865",
     "exception": false,
     "start_time": "2023-11-26T18:40:10.663231",
     "status": "completed"
    },
    "tags": []
   },
   "outputs": [
    {
     "data": {
      "text/plain": [
       "astro-ph             86911\n",
       "hep-ph               80055\n",
       "quant-ph             66348\n",
       "hep-th               57932\n",
       "cs.CV                51047\n",
       "cond-mat.mtrl-sci    37862\n",
       "cond-mat.mes-hall    34168\n",
       "math.AP              32509\n",
       "gr-qc                29712\n",
       "astro-ph.GA          29126\n",
       "Name: categories, dtype: int64"
      ]
     },
     "execution_count": 5,
     "metadata": {},
     "output_type": "execute_result"
    }
   ],
   "source": [
    "df['categories'].value_counts()[0:10]"
   ]
  },
  {
   "cell_type": "code",
   "execution_count": 6,
   "id": "72190d8d",
   "metadata": {
    "execution": {
     "iopub.execute_input": "2023-11-26T18:40:11.430792Z",
     "iopub.status.busy": "2023-11-26T18:40:11.430470Z",
     "iopub.status.idle": "2023-11-26T18:40:12.100037Z",
     "shell.execute_reply": "2023-11-26T18:40:12.099104Z"
    },
    "papermill": {
     "duration": 0.677443,
     "end_time": "2023-11-26T18:40:12.102165",
     "exception": false,
     "start_time": "2023-11-26T18:40:11.424722",
     "status": "completed"
    },
    "tags": []
   },
   "outputs": [
    {
     "data": {
      "text/plain": [
       "80096"
      ]
     },
     "execution_count": 6,
     "metadata": {},
     "output_type": "execute_result"
    }
   ],
   "source": [
    "df['categories'].nunique()"
   ]
  },
  {
   "cell_type": "code",
   "execution_count": 7,
   "id": "763320eb",
   "metadata": {
    "execution": {
     "iopub.execute_input": "2023-11-26T18:40:12.113576Z",
     "iopub.status.busy": "2023-11-26T18:40:12.113254Z",
     "iopub.status.idle": "2023-11-26T18:40:12.119177Z",
     "shell.execute_reply": "2023-11-26T18:40:12.118314Z"
    },
    "papermill": {
     "duration": 0.013845,
     "end_time": "2023-11-26T18:40:12.121037",
     "exception": false,
     "start_time": "2023-11-26T18:40:12.107192",
     "status": "completed"
    },
    "tags": []
   },
   "outputs": [
    {
     "data": {
      "text/plain": [
       "2370685"
      ]
     },
     "execution_count": 7,
     "metadata": {},
     "output_type": "execute_result"
    }
   ],
   "source": [
    "len(df)"
   ]
  },
  {
   "cell_type": "code",
   "execution_count": 8,
   "id": "9e7e4144",
   "metadata": {
    "execution": {
     "iopub.execute_input": "2023-11-26T18:40:12.132184Z",
     "iopub.status.busy": "2023-11-26T18:40:12.131885Z",
     "iopub.status.idle": "2023-11-26T18:40:12.698420Z",
     "shell.execute_reply": "2023-11-26T18:40:12.697590Z"
    },
    "papermill": {
     "duration": 0.574895,
     "end_time": "2023-11-26T18:40:12.700856",
     "exception": false,
     "start_time": "2023-11-26T18:40:12.125961",
     "status": "completed"
    },
    "tags": []
   },
   "outputs": [],
   "source": [
    "df_cs = df[df['categories']=='cs.CV']\n",
    "df_cs = df_cs.reset_index()\n",
    "df_cs_id = df_cs['id']\n",
    "df_id = pd.DataFrame(df_cs_id)"
   ]
  },
  {
   "cell_type": "code",
   "execution_count": 9,
   "id": "e71d5ff9",
   "metadata": {
    "execution": {
     "iopub.execute_input": "2023-11-26T18:40:12.712984Z",
     "iopub.status.busy": "2023-11-26T18:40:12.712422Z",
     "iopub.status.idle": "2023-11-26T18:40:12.757475Z",
     "shell.execute_reply": "2023-11-26T18:40:12.756564Z"
    },
    "papermill": {
     "duration": 0.053412,
     "end_time": "2023-11-26T18:40:12.759532",
     "exception": false,
     "start_time": "2023-11-26T18:40:12.706120",
     "status": "completed"
    },
    "tags": []
   },
   "outputs": [
    {
     "data": {
      "text/html": [
       "<div>\n",
       "<style scoped>\n",
       "    .dataframe tbody tr th:only-of-type {\n",
       "        vertical-align: middle;\n",
       "    }\n",
       "\n",
       "    .dataframe tbody tr th {\n",
       "        vertical-align: top;\n",
       "    }\n",
       "\n",
       "    .dataframe thead th {\n",
       "        text-align: right;\n",
       "    }\n",
       "</style>\n",
       "<table border=\"1\" class=\"dataframe\">\n",
       "  <thead>\n",
       "    <tr style=\"text-align: right;\">\n",
       "      <th></th>\n",
       "      <th>id</th>\n",
       "    </tr>\n",
       "  </thead>\n",
       "  <tbody>\n",
       "    <tr>\n",
       "      <th>0</th>\n",
       "      <td>https://arxiv.org/pdf/0704.1267.pdf</td>\n",
       "    </tr>\n",
       "    <tr>\n",
       "      <th>1</th>\n",
       "      <td>https://arxiv.org/pdf/0705.0214.pdf</td>\n",
       "    </tr>\n",
       "    <tr>\n",
       "      <th>2</th>\n",
       "      <td>https://arxiv.org/pdf/0705.0449.pdf</td>\n",
       "    </tr>\n",
       "    <tr>\n",
       "      <th>3</th>\n",
       "      <td>https://arxiv.org/pdf/0705.0781.pdf</td>\n",
       "    </tr>\n",
       "    <tr>\n",
       "      <th>4</th>\n",
       "      <td>https://arxiv.org/pdf/0705.0828.pdf</td>\n",
       "    </tr>\n",
       "    <tr>\n",
       "      <th>...</th>\n",
       "      <td>...</td>\n",
       "    </tr>\n",
       "    <tr>\n",
       "      <th>51042</th>\n",
       "      <td>https://arxiv.org/pdf/cs/0701150.pdf</td>\n",
       "    </tr>\n",
       "    <tr>\n",
       "      <th>51043</th>\n",
       "      <td>https://arxiv.org/pdf/cs/0703053.pdf</td>\n",
       "    </tr>\n",
       "    <tr>\n",
       "      <th>51044</th>\n",
       "      <td>https://arxiv.org/pdf/cs/9810003.pdf</td>\n",
       "    </tr>\n",
       "    <tr>\n",
       "      <th>51045</th>\n",
       "      <td>https://arxiv.org/pdf/cs/9810017.pdf</td>\n",
       "    </tr>\n",
       "    <tr>\n",
       "      <th>51046</th>\n",
       "      <td>https://arxiv.org/pdf/cs/9908017.pdf</td>\n",
       "    </tr>\n",
       "  </tbody>\n",
       "</table>\n",
       "<p>51047 rows × 1 columns</p>\n",
       "</div>"
      ],
      "text/plain": [
       "                                         id\n",
       "0       https://arxiv.org/pdf/0704.1267.pdf\n",
       "1       https://arxiv.org/pdf/0705.0214.pdf\n",
       "2       https://arxiv.org/pdf/0705.0449.pdf\n",
       "3       https://arxiv.org/pdf/0705.0781.pdf\n",
       "4       https://arxiv.org/pdf/0705.0828.pdf\n",
       "...                                     ...\n",
       "51042  https://arxiv.org/pdf/cs/0701150.pdf\n",
       "51043  https://arxiv.org/pdf/cs/0703053.pdf\n",
       "51044  https://arxiv.org/pdf/cs/9810003.pdf\n",
       "51045  https://arxiv.org/pdf/cs/9810017.pdf\n",
       "51046  https://arxiv.org/pdf/cs/9908017.pdf\n",
       "\n",
       "[51047 rows x 1 columns]"
      ]
     },
     "execution_count": 9,
     "metadata": {},
     "output_type": "execute_result"
    }
   ],
   "source": [
    "df_url = 'https://arxiv.org/pdf/' + df_id['id'].astype(str) + '.pdf'\n",
    "df_url_final = pd.DataFrame(df_url)\n",
    "df_url_final"
   ]
  },
  {
   "cell_type": "code",
   "execution_count": 10,
   "id": "9a8c6965",
   "metadata": {
    "execution": {
     "iopub.execute_input": "2023-11-26T18:40:12.771832Z",
     "iopub.status.busy": "2023-11-26T18:40:12.771034Z",
     "iopub.status.idle": "2023-11-26T18:40:15.496496Z",
     "shell.execute_reply": "2023-11-26T18:40:15.495450Z"
    },
    "papermill": {
     "duration": 2.733829,
     "end_time": "2023-11-26T18:40:15.498671",
     "exception": false,
     "start_time": "2023-11-26T18:40:12.764842",
     "status": "completed"
    },
    "tags": []
   },
   "outputs": [
    {
     "name": "stdout",
     "output_type": "stream",
     "text": [
      "[{'title': 'Text Line Segmentation of Historical Documents: a Survey', 'url': 'https://arxiv.org/pdf/0704.1267.pdf'}, {'title': 'Riemannian level-set methods for tensor-valued data', 'url': 'https://arxiv.org/pdf/0705.0214.pdf'}, {'title': 'Multiresolution Approximation of Polygonal Curves in Linear Complexity', 'url': 'https://arxiv.org/pdf/0705.0449.pdf'}, {'title': 'Medical Image Segmentation and Localization using Deformable Templates', 'url': 'https://arxiv.org/pdf/0705.0781.pdf'}, {'title': 'Enhancement of Noisy Planar Nuclear Medicine Images using Mean Field\\n  Annealing', 'url': 'https://arxiv.org/pdf/0705.0828.pdf'}]\n"
     ]
    }
   ],
   "source": [
    "df_source = pd.concat([df_cs['title'],df_url_final],axis=1)\n",
    "sources = []\n",
    "\n",
    "# Iterate over each row in the DataFrame\n",
    "for index, row in df_source.iterrows():\n",
    "    # Create a dictionary for each row\n",
    "    row_dict = {\n",
    "        'title': row['title'],\n",
    "        'url': row['id']\n",
    "    }\n",
    "    # Append the dictionary to the list\n",
    "    sources.append(row_dict)\n",
    "print(sources[0:5])\n"
   ]
  },
  {
   "cell_type": "code",
   "execution_count": 11,
   "id": "17bc1280",
   "metadata": {
    "execution": {
     "iopub.execute_input": "2023-11-26T18:40:15.510765Z",
     "iopub.status.busy": "2023-11-26T18:40:15.510443Z",
     "iopub.status.idle": "2023-11-26T18:40:15.514465Z",
     "shell.execute_reply": "2023-11-26T18:40:15.513552Z"
    },
    "papermill": {
     "duration": 0.012497,
     "end_time": "2023-11-26T18:40:15.516574",
     "exception": false,
     "start_time": "2023-11-26T18:40:15.504077",
     "status": "completed"
    },
    "tags": []
   },
   "outputs": [],
   "source": [
    "import json"
   ]
  },
  {
   "cell_type": "code",
   "execution_count": 12,
   "id": "bffa2b66",
   "metadata": {
    "execution": {
     "iopub.execute_input": "2023-11-26T18:40:15.528184Z",
     "iopub.status.busy": "2023-11-26T18:40:15.527874Z",
     "iopub.status.idle": "2023-11-26T18:40:15.952641Z",
     "shell.execute_reply": "2023-11-26T18:40:15.951602Z"
    },
    "papermill": {
     "duration": 0.43315,
     "end_time": "2023-11-26T18:40:15.954966",
     "exception": false,
     "start_time": "2023-11-26T18:40:15.521816",
     "status": "completed"
    },
    "tags": []
   },
   "outputs": [],
   "source": [
    "with open('data.json', 'w') as f:\n",
    "    json.dump(sources, f, indent=4)"
   ]
  },
  {
   "cell_type": "code",
   "execution_count": 13,
   "id": "36678a07",
   "metadata": {
    "execution": {
     "iopub.execute_input": "2023-11-26T18:40:15.966979Z",
     "iopub.status.busy": "2023-11-26T18:40:15.966690Z",
     "iopub.status.idle": "2023-11-26T18:40:16.036237Z",
     "shell.execute_reply": "2023-11-26T18:40:16.035218Z"
    },
    "papermill": {
     "duration": 0.078067,
     "end_time": "2023-11-26T18:40:16.038573",
     "exception": false,
     "start_time": "2023-11-26T18:40:15.960506",
     "status": "completed"
    },
    "tags": []
   },
   "outputs": [],
   "source": [
    "with open('data.json', 'r') as f:\n",
    "    # Load data from the file into a Python object\n",
    "    data = json.load(f)"
   ]
  },
  {
   "cell_type": "code",
   "execution_count": 14,
   "id": "17e24e93",
   "metadata": {
    "execution": {
     "iopub.execute_input": "2023-11-26T18:40:16.050515Z",
     "iopub.status.busy": "2023-11-26T18:40:16.050199Z",
     "iopub.status.idle": "2023-11-26T18:40:16.056400Z",
     "shell.execute_reply": "2023-11-26T18:40:16.055513Z"
    },
    "papermill": {
     "duration": 0.014495,
     "end_time": "2023-11-26T18:40:16.058520",
     "exception": false,
     "start_time": "2023-11-26T18:40:16.044025",
     "status": "completed"
    },
    "tags": []
   },
   "outputs": [
    {
     "data": {
      "text/plain": [
       "[{'title': 'Text Line Segmentation of Historical Documents: a Survey',\n",
       "  'url': 'https://arxiv.org/pdf/0704.1267.pdf'},\n",
       " {'title': 'Riemannian level-set methods for tensor-valued data',\n",
       "  'url': 'https://arxiv.org/pdf/0705.0214.pdf'},\n",
       " {'title': 'Multiresolution Approximation of Polygonal Curves in Linear Complexity',\n",
       "  'url': 'https://arxiv.org/pdf/0705.0449.pdf'},\n",
       " {'title': 'Medical Image Segmentation and Localization using Deformable Templates',\n",
       "  'url': 'https://arxiv.org/pdf/0705.0781.pdf'},\n",
       " {'title': 'Enhancement of Noisy Planar Nuclear Medicine Images using Mean Field\\n  Annealing',\n",
       "  'url': 'https://arxiv.org/pdf/0705.0828.pdf'}]"
      ]
     },
     "execution_count": 14,
     "metadata": {},
     "output_type": "execute_result"
    }
   ],
   "source": [
    "data[0:5]"
   ]
  },
  {
   "cell_type": "code",
   "execution_count": null,
   "id": "2e9ddaca",
   "metadata": {
    "papermill": {
     "duration": 0.005223,
     "end_time": "2023-11-26T18:40:16.069365",
     "exception": false,
     "start_time": "2023-11-26T18:40:16.064142",
     "status": "completed"
    },
    "tags": []
   },
   "outputs": [],
   "source": []
  }
 ],
 "metadata": {
  "kaggle": {
   "accelerator": "gpu",
   "dataSources": [
    {
     "datasetId": 612177,
     "sourceId": 7053634,
     "sourceType": "datasetVersion"
    }
   ],
   "dockerImageVersionId": 30527,
   "isGpuEnabled": true,
   "isInternetEnabled": true,
   "language": "python",
   "sourceType": "notebook"
  },
  "kernelspec": {
   "display_name": "Python 3",
   "language": "python",
   "name": "python3"
  },
  "language_info": {
   "codemirror_mode": {
    "name": "ipython",
    "version": 3
   },
   "file_extension": ".py",
   "mimetype": "text/x-python",
   "name": "python",
   "nbconvert_exporter": "python",
   "pygments_lexer": "ipython3",
   "version": "3.10.12"
  },
  "papermill": {
   "default_parameters": {},
   "duration": 143.140092,
   "end_time": "2023-11-26T18:40:19.696160",
   "environment_variables": {},
   "exception": null,
   "input_path": "__notebook__.ipynb",
   "output_path": "__notebook__.ipynb",
   "parameters": {},
   "start_time": "2023-11-26T18:37:56.556068",
   "version": "2.4.0"
  }
 },
 "nbformat": 4,
 "nbformat_minor": 5
}
